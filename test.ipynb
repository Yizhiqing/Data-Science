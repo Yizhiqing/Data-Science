{
 "cells": [
  {
   "cell_type": "code",
   "execution_count": 1,
   "metadata": {},
   "outputs": [
    {
     "name": "stdout",
     "output_type": "stream",
     "text": [
      "hello world.\n"
     ]
    }
   ],
   "source": [
    "print('hello world.')"
   ]
  }
 ],
 "metadata": {
  "interpreter": {
   "hash": "6d5d3f26a98e33f38bd41ecad16b1d873d56acd310fa69b4939a7152e2f62c10"
  },
  "kernelspec": {
   "display_name": "Python 3.6.12 64-bit ('new_env': conda)",
   "name": "python3"
  },
  "language_info": {
   "codemirror_mode": {
    "name": "ipython",
    "version": 3
   },
   "file_extension": ".py",
   "mimetype": "text/x-python",
   "name": "python",
   "nbconvert_exporter": "python",
   "pygments_lexer": "ipython3",
   "version": "3.6.12"
  },
  "orig_nbformat": 4
 },
 "nbformat": 4,
 "nbformat_minor": 2
}